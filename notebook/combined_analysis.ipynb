{
  "cells": [
    {
      "cell_type": "raw",
      "metadata": {
        "vscode": {
          "languageId": "raw"
        }
      },
      "source": [
        "# AI & Digital Transformation in Kenya: Cross-Platform Analysis\n",
        "\n",
        "This notebook analyzes AI and digital transformation discussions across Twitter and LinkedIn in Kenya, focusing on key organizations, trends, and insights.\n"
      ]
    },
    {
      "cell_type": "code",
      "execution_count": null,
      "metadata": {},
      "outputs": [],
      "source": [
        "# Import required libraries\n",
        "import pandas as pd\n",
        "import numpy as np\n",
        "import matplotlib.pyplot as plt\n",
        "import seaborn as sns\n",
        "from wordcloud import WordCloud\n",
        "import plotly.express as px\n",
        "import plotly.graph_objects as go\n",
        "from datetime import datetime\n",
        "import nltk\n",
        "from nltk.corpus import stopwords\n",
        "from nltk.tokenize import word_tokenize\n",
        "from collections import Counter\n",
        "import re\n",
        "import json\n",
        "\n",
        "# Set style for visualizations\n",
        "plt.style.use('seaborn')\n",
        "sns.set_palette(\"husl\")\n",
        "plt.rcParams['figure.figsize'] = [12, 8]\n",
        "plt.rcParams['font.size'] = 12\n",
        "\n",
        "# Download required NLTK data\n",
        "nltk.download('stopwords')\n",
        "nltk.download('punkt')\n",
        "\n",
        "# Custom color palette for Kenya-themed visualizations\n",
        "kenya_colors = ['#BE0027', '#000000', '#169B62', '#FFFFFF']\n",
        "\n",
        "def load_data():\n",
        "    \"\"\"Load and combine data from both platforms\"\"\"\n",
        "    # Find the latest data files\n",
        "    twitter_files = glob.glob('../data/twitter_data_*.csv')\n",
        "    linkedin_files = glob.glob('../data/linkedin_posts_*.csv')\n",
        "    manual_files = glob.glob('../data/manual_collection_*.csv')\n",
        "    \n",
        "    dfs = []\n",
        "    \n",
        "    # Load Twitter data\n",
        "    if twitter_files:\n",
        "        twitter_df = pd.read_csv(max(twitter_files))\n",
        "        twitter_df['platform'] = 'Twitter'\n",
        "        dfs.append(twitter_df)\n",
        "    \n",
        "    # Load LinkedIn data\n",
        "    if linkedin_files:\n",
        "        linkedin_df = pd.read_csv(max(linkedin_files))\n",
        "        linkedin_df['platform'] = 'LinkedIn'\n",
        "        dfs.append(linkedin_df)\n",
        "    \n",
        "    # Load manual collection data\n",
        "    if manual_files:\n",
        "        manual_df = pd.read_csv(max(manual_files))\n",
        "        dfs.append(manual_df)\n",
        "    \n",
        "    # Combine all data\n",
        "    if dfs:\n",
        "        combined_df = pd.concat(dfs, ignore_index=True)\n",
        "        print(f\"Loaded {len(combined_df)} total posts\")\n",
        "        return combined_df\n",
        "    else:\n",
        "        print(\"No data files found\")\n",
        "        return None\n",
        "\n",
        "# Load the data\n",
        "df = load_data()\n"
      ]
    },
    {
      "cell_type": "raw",
      "metadata": {
        "vscode": {
          "languageId": "raw"
        }
      },
      "source": [
        "## 1. Cross-Platform Engagement Analysis\n",
        "\n",
        "Analyzing how AI and digital transformation discussions differ across Twitter and LinkedIn in terms of:\n",
        "- Engagement patterns\n",
        "- Key themes\n",
        "- Organization participation\n",
        "- Content types\n"
      ]
    },
    {
      "cell_type": "code",
      "execution_count": null,
      "metadata": {},
      "outputs": [],
      "source": [
        "# Analyze engagement patterns across platforms\n",
        "def analyze_engagement():\n",
        "    \"\"\"Compare engagement metrics between platforms\"\"\"\n",
        "    # Calculate engagement metrics\n",
        "    if df is not None:\n",
        "        platform_stats = df.groupby('platform').agg({\n",
        "            'likes': ['mean', 'sum', 'count'],\n",
        "            'comments': ['mean', 'sum'],\n",
        "            'shares': ['mean', 'sum']\n",
        "        }).round(2)\n",
        "        \n",
        "        # Create engagement comparison visualization\n",
        "        fig = go.Figure()\n",
        "        \n",
        "        metrics = ['likes', 'comments', 'shares']\n",
        "        colors = kenya_colors[:3]\n",
        "        \n",
        "        for metric, color in zip(metrics, colors):\n",
        "            fig.add_trace(go.Bar(\n",
        "                name=metric.capitalize(),\n",
        "                x=df['platform'].unique(),\n",
        "                y=platform_stats[metric]['mean'],\n",
        "                marker_color=color\n",
        "            ))\n",
        "        \n",
        "        fig.update_layout(\n",
        "            title='Average Engagement by Platform',\n",
        "            xaxis_title='Platform',\n",
        "            yaxis_title='Average Engagement',\n",
        "            barmode='group',\n",
        "            template='plotly_white'\n",
        "        )\n",
        "        \n",
        "        return platform_stats, fig\n",
        "    else:\n",
        "        print(\"No data available for analysis\")\n",
        "        return None, None\n",
        "\n",
        "# Generate engagement insights\n",
        "platform_stats, engagement_fig = analyze_engagement()\n",
        "if platform_stats is not None:\n",
        "    print(\"\\nEngagement Statistics by Platform:\")\n",
        "    print(platform_stats)\n",
        "    engagement_fig.show()\n"
      ]
    },
    {
      "cell_type": "raw",
      "metadata": {},
      "source": []
    },
    {
      "cell_type": "raw",
      "metadata": {},
      "source": []
    },
    {
      "cell_type": "raw",
      "metadata": {},
      "source": []
    },
    {
      "cell_type": "raw",
      "metadata": {},
      "source": []
    },
    {
      "cell_type": "raw",
      "metadata": {},
      "source": []
    },
    {
      "cell_type": "raw",
      "metadata": {},
      "source": []
    },
    {
      "cell_type": "raw",
      "metadata": {},
      "source": []
    },
    {
      "cell_type": "raw",
      "metadata": {},
      "source": []
    }
  ],
  "metadata": {
    "language_info": {
      "name": "python"
    }
  },
  "nbformat": 4,
  "nbformat_minor": 2
}
