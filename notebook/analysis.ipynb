{
  "cells": [
    {
      "cell_type": "raw",
      "metadata": {
        "vscode": {
          "languageId": "raw"
        }
      },
      "source": [
        "# AI in Kenya - Data Analysis\n",
        "\n",
        "This notebook analyzes the collected data about AI conversations in Kenya from Twitter and LinkedIn.\n"
      ]
    },
    {
      "cell_type": "code",
      "execution_count": null,
      "metadata": {},
      "outputs": [],
      "source": [
        "# Import required libraries\n",
        "import pandas as pd\n",
        "import numpy as np\n",
        "import matplotlib.pyplot as plt\n",
        "import seaborn as sns\n",
        "from wordcloud import WordCloud\n",
        "import nltk\n",
        "from nltk.corpus import stopwords\n",
        "from nltk.tokenize import word_tokenize\n",
        "\n",
        "# Download required NLTK data\n",
        "nltk.download('stopwords')\n",
        "nltk.download('punkt')\n",
        "\n",
        "# Set style for visualizations\n",
        "plt.style.use('seaborn')\n",
        "sns.set_palette(\"husl\")\n"
      ]
    },
    {
      "cell_type": "code",
      "execution_count": null,
      "metadata": {},
      "outputs": [],
      "source": [
        "# Load the data\n",
        "twitter_df = pd.read_csv('../data/twitter_data.csv')\n",
        "linkedin_df = pd.read_csv('../data/linkedin_data.csv')\n",
        "\n",
        "print(\"Twitter data shape:\", twitter_df.shape)\n",
        "print(\"LinkedIn data shape:\", linkedin_df.shape)\n"
      ]
    },
    {
      "cell_type": "raw",
      "metadata": {
        "vscode": {
          "languageId": "raw"
        }
      },
      "source": [
        "## Twitter Analysis\n",
        "\n",
        "Analyzing Twitter data including user influence and engagement metrics.\n"
      ]
    },
    {
      "cell_type": "code",
      "execution_count": null,
      "metadata": {},
      "outputs": [],
      "source": [
        "# Analyze Twitter user influence\n",
        "def analyze_twitter_influence():\n",
        "    # Calculate engagement rate\n",
        "    twitter_df['engagement_rate'] = (twitter_df['retweet_count'] + twitter_df['favorite_count']) / twitter_df['user_followers']\n",
        "    \n",
        "    # Plot distribution of follower counts\n",
        "    plt.figure(figsize=(10, 6))\n",
        "    sns.histplot(data=twitter_df, x='user_followers', bins=30)\n",
        "    plt.title('Distribution of Twitter Follower Counts')\n",
        "    plt.xlabel('Number of Followers')\n",
        "    plt.ylabel('Count')\n",
        "    plt.yscale('log')\n",
        "    plt.xscale('log')\n",
        "    plt.savefig('../visuals/twitter_followers_dist.png')\n",
        "    plt.close()\n",
        "    \n",
        "    # Plot engagement rate vs follower count\n",
        "    plt.figure(figsize=(10, 6))\n",
        "    plt.scatter(twitter_df['user_followers'], twitter_df['engagement_rate'])\n",
        "    plt.title('Engagement Rate vs Follower Count')\n",
        "    plt.xlabel('Number of Followers')\n",
        "    plt.ylabel('Engagement Rate')\n",
        "    plt.xscale('log')\n",
        "    plt.yscale('log')\n",
        "    plt.savefig('../visuals/twitter_engagement.png')\n",
        "    plt.close()\n",
        "\n",
        "analyze_twitter_influence()\n"
      ]
    },
    {
      "cell_type": "raw",
      "metadata": {
        "vscode": {
          "languageId": "raw"
        }
      },
      "source": [
        "## LinkedIn Analysis\n",
        "\n",
        "Analyzing LinkedIn data with focus on seniority levels and company sizes.\n"
      ]
    },
    {
      "cell_type": "code",
      "execution_count": null,
      "metadata": {},
      "outputs": [],
      "source": [
        "# Analyze LinkedIn seniority and company size distribution\n",
        "def analyze_linkedin_demographics():\n",
        "    # Plot seniority level distribution\n",
        "    plt.figure(figsize=(10, 6))\n",
        "    sns.countplot(data=linkedin_df, y='seniority_level', order=linkedin_df['seniority_level'].value_counts().index)\n",
        "    plt.title('Distribution of Posts by Seniority Level')\n",
        "    plt.xlabel('Number of Posts')\n",
        "    plt.ylabel('Seniority Level')\n",
        "    plt.savefig('../visuals/linkedin_seniority.png')\n",
        "    plt.close()\n",
        "    \n",
        "    # Plot company size distribution\n",
        "    plt.figure(figsize=(10, 6))\n",
        "    sns.countplot(data=linkedin_df, y='company_size', order=linkedin_df['company_size'].value_counts().index)\n",
        "    plt.title('Distribution of Posts by Company Size')\n",
        "    plt.xlabel('Number of Posts')\n",
        "    plt.ylabel('Company Size')\n",
        "    plt.savefig('../visuals/linkedin_company_size.png')\n",
        "    plt.close()\n",
        "    \n",
        "    # Calculate average engagement by seniority\n",
        "    engagement_by_seniority = linkedin_df.groupby('seniority_level')[['likes', 'comments', 'shares']].mean()\n",
        "    print(\"\\nAverage engagement by seniority level:\")\n",
        "    print(engagement_by_seniority)\n",
        "\n",
        "analyze_linkedin_demographics()\n"
      ]
    },
    {
      "cell_type": "raw",
      "metadata": {
        "vscode": {
          "languageId": "raw"
        }
      },
      "source": [
        "## Content Analysis\n",
        "\n",
        "Analyzing the actual content of posts across both platforms using word clouds and common phrases.\n"
      ]
    },
    {
      "cell_type": "code",
      "execution_count": null,
      "metadata": {},
      "outputs": [],
      "source": [
        "# Content analysis functions\n",
        "def preprocess_text(text):\n",
        "    # Tokenize\n",
        "    tokens = word_tokenize(str(text).lower())\n",
        "    \n",
        "    # Remove stopwords and common Twitter/LinkedIn terms\n",
        "    stop_words = set(stopwords.words('english'))\n",
        "    stop_words.update(['https', 'co', 'rt', 'amp', 'via'])\n",
        "    \n",
        "    return ' '.join([word for word in tokens if word.isalnum() and word not in stop_words])\n",
        "\n",
        "def generate_wordcloud(text, title, filename):\n",
        "    wordcloud = WordCloud(width=800, height=400, background_color='white').generate(text)\n",
        "    \n",
        "    plt.figure(figsize=(10, 5))\n",
        "    plt.imshow(wordcloud, interpolation='bilinear')\n",
        "    plt.axis('off')\n",
        "    plt.title(title)\n",
        "    plt.savefig(f'../visuals/{filename}.png')\n",
        "    plt.close()\n",
        "\n",
        "# Process Twitter content\n",
        "twitter_text = ' '.join(twitter_df['text'].apply(preprocess_text))\n",
        "generate_wordcloud(twitter_text, 'Common Terms in Twitter Posts', 'twitter_wordcloud')\n",
        "\n",
        "# Process LinkedIn content\n",
        "linkedin_text = ' '.join(linkedin_df['post_text'].apply(preprocess_text))\n",
        "generate_wordcloud(linkedin_text, 'Common Terms in LinkedIn Posts', 'linkedin_wordcloud')\n"
      ]
    }
  ],
  "metadata": {
    "kernelspec": {
      "display_name": "base",
      "language": "python",
      "name": "python3"
    },
    "language_info": {
      "name": "python",
      "version": "3.12.4"
    }
  },
  "nbformat": 4,
  "nbformat_minor": 2
}
